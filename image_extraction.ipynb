{
 "cells": [
  {
   "cell_type": "code",
   "execution_count": 1,
   "metadata": {},
   "outputs": [
    {
     "name": "stdout",
     "output_type": "stream",
     "text": [
      "Saved 10000 images to 'mnist_visible'.\n"
     ]
    }
   ],
   "source": [
    "# BB ANS\n",
    "import os\n",
    "import numpy as np\n",
    "import matplotlib.pyplot as plt\n",
    "\n",
    "def convert_mnist_to_png(file_path, output_dir):\n",
    "    # Create output directory if it doesn't exist\n",
    "    os.makedirs(output_dir, exist_ok=True)\n",
    "    \n",
    "    # Read the file\n",
    "    with open(file_path, 'rb') as f:\n",
    "        # Read and validate the header\n",
    "        magic_number = int.from_bytes(f.read(4), 'big')\n",
    "        if magic_number != 2051:\n",
    "            raise ValueError(\"Invalid magic number. This file does not appear to be a MNIST image file.\")\n",
    "        \n",
    "        num_images = int.from_bytes(f.read(4), 'big')\n",
    "        num_rows = int.from_bytes(f.read(4), 'big')\n",
    "        num_cols = int.from_bytes(f.read(4), 'big')\n",
    "        \n",
    "        # Read the image data\n",
    "        image_data = np.frombuffer(f.read(), dtype=np.uint8)\n",
    "        \n",
    "        # Reshape the data into (num_images, num_rows, num_cols)\n",
    "        images = image_data.reshape(num_images, num_rows, num_cols)\n",
    "    \n",
    "    # Save each image as PNG\n",
    "    for i in range(num_images):\n",
    "        # Construct file name\n",
    "        file_name = f\"image_{i:05d}.png\"\n",
    "        file_path = os.path.join(output_dir, file_name)\n",
    "        \n",
    "        # Save image using Matplotlib\n",
    "        plt.imsave(file_path, images[i], cmap='gray')\n",
    "        \n",
    "    print(f\"Saved {num_images} images to '{output_dir}'.\")\n",
    "\n",
    "# File path to the MNIST dataset\n",
    "mnist_file_path = \"data/mnist/MNIST/raw/t10k-images-idx3-ubyte\"\n",
    "# Output directory\n",
    "output_directory = \"mnist_visible\"\n",
    "\n",
    "# Convert and save images\n",
    "convert_mnist_to_png(mnist_file_path, output_directory)\n"
   ]
  }
 ],
 "metadata": {
  "kernelspec": {
   "display_name": "dip",
   "language": "python",
   "name": "python3"
  },
  "language_info": {
   "codemirror_mode": {
    "name": "ipython",
    "version": 3
   },
   "file_extension": ".py",
   "mimetype": "text/x-python",
   "name": "python",
   "nbconvert_exporter": "python",
   "pygments_lexer": "ipython3",
   "version": "3.12.7"
  }
 },
 "nbformat": 4,
 "nbformat_minor": 2
}
