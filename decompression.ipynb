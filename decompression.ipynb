{
 "cells": [
  {
   "cell_type": "code",
   "execution_count": 1,
   "metadata": {},
   "outputs": [
    {
     "name": "stderr",
     "output_type": "stream",
     "text": [
      "/tmp/ipykernel_45356/4203628668.py:23: FutureWarning: You are using `torch.load` with `weights_only=False` (the current default value), which uses the default pickle module implicitly. It is possible to construct malicious pickle data which will execute arbitrary code during unpickling (See https://github.com/pytorch/pytorch/blob/main/SECURITY.md#untrusted-models for more details). In a future release, the default value for `weights_only` will be flipped to `True`. This limits the functions that could be executed during unpickling. Arbitrary objects will no longer be allowed to be loaded via this mode unless they are explicitly allowlisted by the user via `torch.serialization.add_safe_globals`. We recommend you start setting `weights_only=True` for any use case where you don't have full control of the loaded file. Please open an issue on GitHub for any issues related to this experimental feature.\n",
      "  torch.load('saved_params/torch_vae_beta_binomial_params',\n"
     ]
    },
    {
     "ename": "FileNotFoundError",
     "evalue": "[Errno 2] No such file or directory: '/home/pradeep/Downloads/courses/DIP/project/submission_codes/result_2/decompressed_image_0.png'",
     "output_type": "error",
     "traceback": [
      "\u001b[0;31m---------------------------------------------------------------------------\u001b[0m",
      "\u001b[0;31mFileNotFoundError\u001b[0m                         Traceback (most recent call last)",
      "Cell \u001b[0;32mIn[1], line 54\u001b[0m\n\u001b[1;32m     52\u001b[0m image_array \u001b[38;5;241m=\u001b[39m image_\u001b[38;5;241m.\u001b[39mnumpy()\u001b[38;5;241m.\u001b[39mreshape(\u001b[38;5;241m28\u001b[39m, \u001b[38;5;241m28\u001b[39m)  \u001b[38;5;66;03m# Convert to NumPy and reshape for MNIST dimensions (28x28)\u001b[39;00m\n\u001b[1;32m     53\u001b[0m image_save_path \u001b[38;5;241m=\u001b[39m \u001b[38;5;124mf\u001b[39m\u001b[38;5;124m'\u001b[39m\u001b[38;5;124mresult_2/decompressed_image_\u001b[39m\u001b[38;5;132;01m{\u001b[39;00mn\u001b[38;5;132;01m}\u001b[39;00m\u001b[38;5;124m.png\u001b[39m\u001b[38;5;124m'\u001b[39m\n\u001b[0;32m---> 54\u001b[0m \u001b[43mImage\u001b[49m\u001b[38;5;241;43m.\u001b[39;49m\u001b[43mfromarray\u001b[49m\u001b[43m(\u001b[49m\u001b[43mimage_array\u001b[49m\u001b[38;5;241;43m.\u001b[39;49m\u001b[43mastype\u001b[49m\u001b[43m(\u001b[49m\u001b[43mnp\u001b[49m\u001b[38;5;241;43m.\u001b[39;49m\u001b[43muint8\u001b[49m\u001b[43m)\u001b[49m\u001b[43m)\u001b[49m\u001b[38;5;241;43m.\u001b[39;49m\u001b[43msave\u001b[49m\u001b[43m(\u001b[49m\u001b[43mimage_save_path\u001b[49m\u001b[43m)\u001b[49m\n\u001b[1;32m     56\u001b[0m decoded_images\u001b[38;5;241m.\u001b[39mappend(image_array)\n\u001b[1;32m     57\u001b[0m \u001b[38;5;28mprint\u001b[39m(\u001b[38;5;124mf\u001b[39m\u001b[38;5;124m'\u001b[39m\u001b[38;5;124mDecoded image \u001b[39m\u001b[38;5;132;01m{\u001b[39;00mn\u001b[38;5;132;01m}\u001b[39;00m\u001b[38;5;124m'\u001b[39m)\n",
      "File \u001b[0;32m~/anaconda3/envs/dip/lib/python3.8/site-packages/PIL/Image.py:2563\u001b[0m, in \u001b[0;36mImage.save\u001b[0;34m(self, fp, format, **params)\u001b[0m\n\u001b[1;32m   2561\u001b[0m         fp \u001b[38;5;241m=\u001b[39m builtins\u001b[38;5;241m.\u001b[39mopen(filename, \u001b[38;5;124m\"\u001b[39m\u001b[38;5;124mr+b\u001b[39m\u001b[38;5;124m\"\u001b[39m)\n\u001b[1;32m   2562\u001b[0m     \u001b[38;5;28;01melse\u001b[39;00m:\n\u001b[0;32m-> 2563\u001b[0m         fp \u001b[38;5;241m=\u001b[39m \u001b[43mbuiltins\u001b[49m\u001b[38;5;241;43m.\u001b[39;49m\u001b[43mopen\u001b[49m\u001b[43m(\u001b[49m\u001b[43mfilename\u001b[49m\u001b[43m,\u001b[49m\u001b[43m \u001b[49m\u001b[38;5;124;43m\"\u001b[39;49m\u001b[38;5;124;43mw+b\u001b[39;49m\u001b[38;5;124;43m\"\u001b[39;49m\u001b[43m)\u001b[49m\n\u001b[1;32m   2564\u001b[0m \u001b[38;5;28;01melse\u001b[39;00m:\n\u001b[1;32m   2565\u001b[0m     fp \u001b[38;5;241m=\u001b[39m cast(IO[\u001b[38;5;28mbytes\u001b[39m], fp)\n",
      "\u001b[0;31mFileNotFoundError\u001b[0m: [Errno 2] No such file or directory: '/home/pradeep/Downloads/courses/DIP/project/submission_codes/result_2/decompressed_image_0.png'"
     ]
    }
   ],
   "source": [
    "#Decoding scripts/ de-compressing scripts\n",
    "\n",
    "import os\n",
    "import numpy as np\n",
    "import rans\n",
    "from PIL import Image\n",
    "import util\n",
    "from torch_vae import tvae_utils\n",
    "from torch_vae.tvae_beta_binomial import BetaBinomialVAE\n",
    "import torch\n",
    "import time\n",
    "\n",
    "# Parameters\n",
    "prior_precision = 8\n",
    "obs_precision = 14\n",
    "q_precision = 14\n",
    "latent_dim = 50\n",
    "latent_shape = (1, latent_dim)\n",
    "\n",
    "# Load the VAE model\n",
    "model = BetaBinomialVAE(hidden_dim=200, latent_dim=latent_dim)\n",
    "model.load_state_dict(\n",
    "    torch.load('saved_params/torch_vae_beta_binomial_params',\n",
    "               map_location=lambda storage, location: storage))\n",
    "model.eval()\n",
    "\n",
    "rec_net = tvae_utils.torch_fun_to_numpy_fun(model.encode)\n",
    "gen_net = tvae_utils.torch_fun_to_numpy_fun(model.decode)\n",
    "\n",
    "obs_append = tvae_utils.beta_binomial_obs_append(255, obs_precision)\n",
    "obs_pop = tvae_utils.beta_binomial_obs_pop(255, obs_precision)\n",
    "\n",
    "vae_append = util.vae_append(latent_shape, gen_net, rec_net, obs_append,\n",
    "                             prior_precision, q_precision)\n",
    "vae_pop = util.vae_pop(latent_shape, gen_net, rec_net, obs_pop,\n",
    "                       prior_precision, q_precision)\n",
    "\n",
    "# Load the compressed message\n",
    "compressed_lengths = np.loadtxt('compressed_lengths_cts').tolist()\n",
    "compressed_message = np.fromfile('compressed_message.bin', dtype=np.uint32)\n",
    "\n",
    "\n",
    "# Decode the images\n",
    "state = rans.unflatten(compressed_message)\n",
    "decode_start_time = time.time()\n",
    "decoded_images = []\n",
    "\n",
    "for n in range(len(compressed_lengths)):\n",
    "    state, image_ = vae_pop(state)\n",
    "    \n",
    "    # Decompressed image\n",
    "    image_array = image_.numpy().reshape(28, 28)  # Convert to NumPy and reshape for MNIST dimensions (28x28)\n",
    "    image_save_path = f'decompressed_image/decompressed_image_{n}.png'\n",
    "    Image.fromarray(image_array.astype(np.uint8)).save(image_save_path)\n",
    "    \n",
    "    decoded_images.append(image_array)\n",
    "    print(f'Decoded image {n}')\n",
    "\n",
    "print('\\nAll decoded in {:.2f}s'.format(time.time() - decode_start_time))\n",
    "\n",
    "# Save the recovered bits\n",
    "recovered_bits = rans.flatten(state)\n",
    "np.save('recovered_bits.npy', recovered_bits)\n"
   ]
  }
 ],
 "metadata": {
  "kernelspec": {
   "display_name": "dip",
   "language": "python",
   "name": "python3"
  },
  "language_info": {
   "codemirror_mode": {
    "name": "ipython",
    "version": 3
   },
   "file_extension": ".py",
   "mimetype": "text/x-python",
   "name": "python",
   "nbconvert_exporter": "python",
   "pygments_lexer": "ipython3",
   "version": "3.8.20"
  }
 },
 "nbformat": 4,
 "nbformat_minor": 2
}
